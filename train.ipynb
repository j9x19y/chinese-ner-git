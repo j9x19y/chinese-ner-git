{
 "cells": [
  {
   "cell_type": "code",
   "execution_count": 2,
   "metadata": {},
   "outputs": [
    {
     "name": "stderr",
     "output_type": "stream",
     "text": [
      "'HTTPSConnectionPool(host='huggingface.co', port=443): Max retries exceeded with url: /bert-base-cased/resolve/main/vocab.txt (Caused by ConnectTimeoutError(<urllib3.connection.HTTPSConnection object at 0x000001A344460C50>, 'Connection to huggingface.co timed out. (connect timeout=10)'))' thrown while requesting HEAD https://huggingface.co/bert-base-cased/resolve/main/vocab.txt\n",
      "Epoch:   0%|          | 0/20 [00:00<?, ?it/s]"
     ]
    },
    {
     "name": "stdout",
     "output_type": "stream",
     "text": [
      "Training epoch: [1/20]\n",
      "batch loss is: 772.06371\n",
      "batch loss is: 583.74046\n",
      "batch loss is: 479.92517\n",
      "batch loss is: 414.78294\n",
      "batch loss is: 367.47652\n",
      "batch loss is: 332.54594\n"
     ]
    },
    {
     "name": "stderr",
     "output_type": "stream",
     "text": [
      "Epoch:   5%|▌         | 1/20 [01:40<31:48, 100.43s/it]"
     ]
    },
    {
     "name": "stdout",
     "output_type": "stream",
     "text": [
      "train_loss: 316.46817 valid_loss: 126.75447 train_acc:0.9308 valid_acc:0.9625\n",
      "Training epoch: [2/20]\n",
      "batch loss is: 127.12974\n",
      "batch loss is: 122.25309\n",
      "batch loss is: 117.36850\n",
      "batch loss is: 113.08823\n",
      "batch loss is: 109.03372\n",
      "batch loss is: 105.78035\n"
     ]
    },
    {
     "name": "stderr",
     "output_type": "stream",
     "text": [
      "Epoch:  10%|█         | 2/20 [03:18<29:45, 99.19s/it] "
     ]
    },
    {
     "name": "stdout",
     "output_type": "stream",
     "text": [
      "train_loss: 103.97876 valid_loss: 76.28037 train_acc:0.9672 valid_acc:0.9730\n",
      "Training epoch: [3/20]\n",
      "batch loss is: 71.29894\n",
      "batch loss is: 71.44778\n",
      "batch loss is: 71.21709\n",
      "batch loss is: 69.57700\n",
      "batch loss is: 68.15371\n",
      "batch loss is: 67.41063\n"
     ]
    },
    {
     "name": "stderr",
     "output_type": "stream",
     "text": [
      "Epoch:  15%|█▌        | 3/20 [04:51<27:16, 96.28s/it]"
     ]
    },
    {
     "name": "stdout",
     "output_type": "stream",
     "text": [
      "train_loss: 66.78708 valid_loss: 56.12757 train_acc:0.9755 valid_acc:0.9784\n",
      "Training epoch: [4/20]\n",
      "batch loss is: 50.54321\n",
      "batch loss is: 49.59487\n",
      "batch loss is: 49.77615\n",
      "batch loss is: 49.90416\n",
      "batch loss is: 49.59032\n",
      "batch loss is: 48.87061\n"
     ]
    },
    {
     "name": "stderr",
     "output_type": "stream",
     "text": [
      "Epoch:  20%|██        | 4/20 [06:25<25:24, 95.27s/it]"
     ]
    },
    {
     "name": "stdout",
     "output_type": "stream",
     "text": [
      "train_loss: 48.71051 valid_loss: 47.95584 train_acc:0.9806 valid_acc:0.9799\n",
      "Training epoch: [5/20]\n",
      "batch loss is: 38.80288\n",
      "batch loss is: 38.01713\n",
      "batch loss is: 38.40904\n",
      "batch loss is: 38.67610\n",
      "batch loss is: 39.00239\n",
      "batch loss is: 38.42948\n"
     ]
    },
    {
     "name": "stderr",
     "output_type": "stream",
     "text": [
      "Epoch:  25%|██▌       | 5/20 [08:09<24:35, 98.39s/it]"
     ]
    },
    {
     "name": "stdout",
     "output_type": "stream",
     "text": [
      "train_loss: 38.25695 valid_loss: 43.08591 train_acc:0.9839 valid_acc:0.9806\n",
      "Training epoch: [6/20]\n",
      "batch loss is: 30.97609\n",
      "batch loss is: 30.03958\n",
      "batch loss is: 30.86649\n",
      "batch loss is: 30.65381\n",
      "batch loss is: 30.76928\n",
      "batch loss is: 30.94069\n"
     ]
    },
    {
     "name": "stderr",
     "output_type": "stream",
     "text": [
      "Epoch:  30%|███       | 6/20 [09:46<22:54, 98.14s/it]"
     ]
    },
    {
     "name": "stdout",
     "output_type": "stream",
     "text": [
      "train_loss: 30.97152 valid_loss: 40.21722 train_acc:0.9864 valid_acc:0.9820\n",
      "Training epoch: [7/20]\n",
      "batch loss is: 26.70649\n",
      "batch loss is: 25.80027\n",
      "batch loss is: 25.58056\n",
      "batch loss is: 25.52484\n",
      "batch loss is: 25.60024\n",
      "batch loss is: 25.82130\n"
     ]
    },
    {
     "name": "stderr",
     "output_type": "stream",
     "text": [
      "Epoch:  35%|███▌      | 7/20 [11:22<21:04, 97.29s/it]"
     ]
    },
    {
     "name": "stdout",
     "output_type": "stream",
     "text": [
      "train_loss: 25.91584 valid_loss: 36.98751 train_acc:0.9882 valid_acc:0.9835\n",
      "Training epoch: [8/20]\n",
      "batch loss is: 20.74600\n",
      "batch loss is: 20.96536\n",
      "batch loss is: 21.16464\n",
      "batch loss is: 21.71020\n",
      "batch loss is: 21.79685\n",
      "batch loss is: 21.99563\n"
     ]
    },
    {
     "name": "stderr",
     "output_type": "stream",
     "text": [
      "Epoch:  40%|████      | 8/20 [13:04<19:46, 98.87s/it]"
     ]
    },
    {
     "name": "stdout",
     "output_type": "stream",
     "text": [
      "train_loss: 22.01314 valid_loss: 37.76127 train_acc:0.9898 valid_acc:0.9830\n",
      "Training epoch: [9/20]\n",
      "batch loss is: 17.51027\n",
      "batch loss is: 17.84853\n",
      "batch loss is: 18.55583\n",
      "batch loss is: 18.56653\n",
      "batch loss is: 18.76231\n",
      "batch loss is: 18.79406\n"
     ]
    },
    {
     "name": "stderr",
     "output_type": "stream",
     "text": [
      "Epoch:  45%|████▌     | 9/20 [14:42<18:03, 98.50s/it]"
     ]
    },
    {
     "name": "stdout",
     "output_type": "stream",
     "text": [
      "train_loss: 18.81003 valid_loss: 37.18365 train_acc:0.9910 valid_acc:0.9836\n",
      "Training epoch: [10/20]\n",
      "batch loss is: 16.06115\n",
      "batch loss is: 15.77716\n",
      "batch loss is: 15.90626\n",
      "batch loss is: 16.18022\n",
      "batch loss is: 16.32436\n",
      "batch loss is: 16.46706\n"
     ]
    },
    {
     "name": "stderr",
     "output_type": "stream",
     "text": [
      "Epoch:  50%|█████     | 10/20 [16:14<16:06, 96.64s/it]"
     ]
    },
    {
     "name": "stdout",
     "output_type": "stream",
     "text": [
      "train_loss: 16.57785 valid_loss: 36.75955 train_acc:0.9920 valid_acc:0.9841\n",
      "Training epoch: [11/20]\n",
      "batch loss is: 13.22968\n",
      "batch loss is: 13.60374\n",
      "batch loss is: 13.79568\n",
      "batch loss is: 14.06278\n",
      "batch loss is: 14.17195\n",
      "batch loss is: 14.16190\n"
     ]
    },
    {
     "name": "stderr",
     "output_type": "stream",
     "text": [
      "Epoch:  55%|█████▌    | 11/20 [17:57<14:46, 98.48s/it]"
     ]
    },
    {
     "name": "stdout",
     "output_type": "stream",
     "text": [
      "train_loss: 14.29724 valid_loss: 38.32570 train_acc:0.9932 valid_acc:0.9842\n",
      "Training epoch: [12/20]\n",
      "batch loss is: 12.21839\n",
      "batch loss is: 12.27412\n",
      "batch loss is: 12.37037\n",
      "batch loss is: 12.51517\n",
      "batch loss is: 12.73862\n",
      "batch loss is: 12.87456\n"
     ]
    },
    {
     "name": "stderr",
     "output_type": "stream",
     "text": [
      "Epoch:  60%|██████    | 12/20 [19:34<13:04, 98.11s/it]"
     ]
    },
    {
     "name": "stdout",
     "output_type": "stream",
     "text": [
      "train_loss: 12.93139 valid_loss: 38.55861 train_acc:0.9938 valid_acc:0.9833\n",
      "Training epoch: [13/20]\n",
      "batch loss is: 9.91701\n",
      "batch loss is: 10.85226\n",
      "batch loss is: 10.88772\n",
      "batch loss is: 11.10709\n",
      "batch loss is: 11.38440\n",
      "batch loss is: 11.52996\n"
     ]
    },
    {
     "name": "stderr",
     "output_type": "stream",
     "text": [
      "Epoch:  65%|██████▌   | 13/20 [21:07<11:14, 96.39s/it]"
     ]
    },
    {
     "name": "stdout",
     "output_type": "stream",
     "text": [
      "train_loss: 11.63410 valid_loss: 39.60043 train_acc:0.9943 valid_acc:0.9837\n",
      "Training epoch: [14/20]\n",
      "batch loss is: 9.43692\n",
      "batch loss is: 9.32669\n",
      "batch loss is: 9.59627\n",
      "batch loss is: 9.55428\n",
      "batch loss is: 9.90080\n",
      "batch loss is: 10.18103\n"
     ]
    },
    {
     "name": "stderr",
     "output_type": "stream",
     "text": [
      "Epoch:  70%|███████   | 14/20 [22:48<09:46, 97.77s/it]"
     ]
    },
    {
     "name": "stdout",
     "output_type": "stream",
     "text": [
      "train_loss: 10.36719 valid_loss: 39.44955 train_acc:0.9949 valid_acc:0.9842\n",
      "Training epoch: [15/20]\n",
      "batch loss is: 8.67722\n",
      "batch loss is: 8.84098\n",
      "batch loss is: 8.97233\n",
      "batch loss is: 9.32872\n",
      "batch loss is: 9.46993\n",
      "batch loss is: 9.58141\n"
     ]
    },
    {
     "name": "stderr",
     "output_type": "stream",
     "text": [
      "Epoch:  75%|███████▌  | 15/20 [24:28<08:12, 98.57s/it]"
     ]
    },
    {
     "name": "stdout",
     "output_type": "stream",
     "text": [
      "train_loss: 9.58380 valid_loss: 40.75288 train_acc:0.9953 valid_acc:0.9844\n",
      "Training epoch: [16/20]\n",
      "batch loss is: 7.47315\n",
      "batch loss is: 7.49178\n",
      "batch loss is: 7.69751\n",
      "batch loss is: 7.87233\n",
      "batch loss is: 8.21345\n",
      "batch loss is: 8.31191\n"
     ]
    },
    {
     "name": "stderr",
     "output_type": "stream",
     "text": [
      "Epoch:  80%|████████  | 16/20 [26:01<06:27, 96.96s/it]"
     ]
    },
    {
     "name": "stdout",
     "output_type": "stream",
     "text": [
      "train_loss: 8.48082 valid_loss: 42.47697 train_acc:0.9958 valid_acc:0.9837\n",
      "Training epoch: [17/20]\n",
      "batch loss is: 7.47505\n",
      "batch loss is: 7.65614\n",
      "batch loss is: 7.44373\n",
      "batch loss is: 7.50433\n",
      "batch loss is: 7.69034\n",
      "batch loss is: 7.90631\n"
     ]
    },
    {
     "name": "stderr",
     "output_type": "stream",
     "text": [
      "Epoch:  85%|████████▌ | 17/20 [27:41<04:53, 97.78s/it]"
     ]
    },
    {
     "name": "stdout",
     "output_type": "stream",
     "text": [
      "train_loss: 8.11695 valid_loss: 43.60587 train_acc:0.9960 valid_acc:0.9844\n",
      "Training epoch: [18/20]\n",
      "batch loss is: 6.50941\n",
      "batch loss is: 6.74668\n",
      "batch loss is: 6.83890\n",
      "batch loss is: 7.10298\n",
      "batch loss is: 7.25241\n",
      "batch loss is: 7.49245\n"
     ]
    },
    {
     "name": "stderr",
     "output_type": "stream",
     "text": [
      "Epoch:  90%|█████████ | 18/20 [29:20<03:16, 98.29s/it]"
     ]
    },
    {
     "name": "stdout",
     "output_type": "stream",
     "text": [
      "train_loss: 7.59347 valid_loss: 43.62687 train_acc:0.9962 valid_acc:0.9846\n",
      "Training epoch: [19/20]\n",
      "batch loss is: 6.27111\n",
      "batch loss is: 6.21286\n",
      "batch loss is: 6.21074\n",
      "batch loss is: 6.36759\n",
      "batch loss is: 6.58411\n",
      "batch loss is: 6.72856\n"
     ]
    },
    {
     "name": "stderr",
     "output_type": "stream",
     "text": [
      "Epoch:  95%|█████████▌| 19/20 [30:52<01:36, 96.32s/it]"
     ]
    },
    {
     "name": "stdout",
     "output_type": "stream",
     "text": [
      "train_loss: 6.73917 valid_loss: 47.82634 train_acc:0.9967 valid_acc:0.9839\n",
      "Training epoch: [20/20]\n",
      "batch loss is: 5.68640\n",
      "batch loss is: 5.96360\n",
      "batch loss is: 5.89675\n",
      "batch loss is: 6.05769\n",
      "batch loss is: 6.19437\n",
      "batch loss is: 6.35179\n"
     ]
    },
    {
     "name": "stderr",
     "output_type": "stream",
     "text": [
      "Epoch: 100%|██████████| 20/20 [32:31<00:00, 97.58s/it]"
     ]
    },
    {
     "name": "stdout",
     "output_type": "stream",
     "text": [
      "train_loss: 6.48010 valid_loss: 43.57075 train_acc:0.9968 valid_acc:0.9848\n"
     ]
    },
    {
     "name": "stderr",
     "output_type": "stream",
     "text": [
      "\n"
     ]
    },
    {
     "name": "stdout",
     "output_type": "stream",
     "text": [
      "0.9801641041981997\n",
      "              precision    recall  f1-score   support\n",
      "\n",
      "         LOC     0.8981    0.8587    0.8780      2597\n",
      "         ORG     0.7847    0.7807    0.7827      1172\n",
      "         PER     0.8650    0.8276    0.8459      1270\n",
      "\n",
      "   micro avg     0.8627    0.8327    0.8474      5039\n",
      "   macro avg     0.8493    0.8223    0.8355      5039\n",
      "weighted avg     0.8634    0.8327    0.8477      5039\n",
      "\n"
     ]
    },
    {
     "data": {
      "image/png": "[encoded data removed]",
      "text/plain": [
       "<Figure size 640x480 with 1 Axes>"
      ]
     },
     "metadata": {},
     "output_type": "display_data"
    },
    {
     "data": {
      "image/png": "[encoded data removed]",
      "text/plain": [
       "<Figure size 640x480 with 1 Axes>"
      ]
     },
     "metadata": {},
     "output_type": "display_data"
    }
   ],
   "source": [
    "import random\n",
    "import numpy as np\n",
    "from tqdm import trange\n",
    "import torch\n",
    "from models import LstmModel\n",
    "from transformers import BertTokenizer\n",
    "from seqeval.metrics import accuracy_score, classification_report\n",
    "from utils import read_corpus, read_tags\n",
    "from utils import build_loader, build_label2idx, build_vocab2idx\n",
    "from utils import Parmas\n",
    "\n",
    "\n",
    "def set_random_seed(seed=2023):\n",
    "    random.seed(seed)\n",
    "    np.random.seed(seed)\n",
    "    torch.cuda.manual_seed(seed)\n",
    "    torch.cuda.manual_seed_all(seed)\n",
    "\n",
    "\n",
    "# 模型训练\n",
    "def train_model(model, epochs, train_loader, valid_loader, label2idx, device, save_model_path):\n",
    "    l1_lamda = 0.0001\n",
    "    optimizer = torch.optim.Adam(model.parameters(), lr=0.001)\n",
    "\n",
    "    losses = []\n",
    "    train_losses = []\n",
    "    valid_losses = []\n",
    "\n",
    "    for epoch in trange(epochs, desc='Epoch'):\n",
    "        print(\"Training epoch: [{}/{}]\".format(epoch+1, epochs))\n",
    "        tr_loss, tr_acc = 0, 0\n",
    "        n_steps, n_examples = 0, 0\n",
    "        model.train()\n",
    "\n",
    "        for idx, batch in enumerate(train_loader):\n",
    "            input_ids = batch['input_ids'].to(device)\n",
    "            label_ids = batch['label_ids'].to(device)\n",
    "            mask = batch['mask'].to(device)\n",
    "\n",
    "            output = model.forwards(input_ids, label_ids, mask=mask)\n",
    "            if model.use_crf:\n",
    "                best_path, loss = output\n",
    "                tr_loss += loss.item()\n",
    "                n_steps += 1\n",
    "                max_length = 80\n",
    "                # 填充或截断所有子列表，使它们的长度相等\n",
    "                best_path = [sublist + [0] * (max_length - len(sublist)) for sublist in best_path]\n",
    "                best_path = torch.Tensor(best_path).squeeze().contiguous().view(-1)\n",
    "                active_logits = mask.view(-1) == 1\n",
    "                preds = torch.masked_select(best_path, active_logits)\n",
    "                targets = label_ids.view(-1)\n",
    "                targets = torch.masked_select(targets, active_logits)\n",
    "                acc = accuracy_score(y_true=targets.cpu().numpy(), y_pred=preds.cpu().numpy())\n",
    "                tr_acc += acc\n",
    "            else:\n",
    "                logits, loss = output\n",
    "                tr_loss += loss.item()\n",
    "                n_steps += 1\n",
    "\n",
    "                logits = logits.view(-1, logits.size(-1))\n",
    "                preds = torch.argmax(logits, dim=1)\n",
    "                targets = label_ids.view(-1)\n",
    "                active_logits = mask.view(-1) == 1\n",
    "                preds = torch.masked_select(preds, active_logits)\n",
    "                targets = torch.masked_select(targets, active_logits)\n",
    "                acc = accuracy_score(y_true=targets.cpu().numpy(), y_pred=preds.cpu().numpy())\n",
    "                tr_acc += acc\n",
    "            if idx % 200 == 199:\n",
    "                avg_loss = tr_loss / n_steps\n",
    "                losses.append(avg_loss)\n",
    "                print(\"batch loss is: {:.5f}\".format(avg_loss))\n",
    "\n",
    "            optimizer.zero_grad()\n",
    "            loss.backward()\n",
    "            optimizer.step()\n",
    "\n",
    "        epoch_loss = tr_loss / n_steps\n",
    "        epoch_acc = tr_acc / n_steps\n",
    "        # 在验证集上评估模型性能\n",
    "        valid_acc, _, valid_loss = evaluate(model, valid_loader, device, label2idx)\n",
    "        train_losses.append(epoch_loss)\n",
    "        valid_losses.append(valid_loss)\n",
    "        print(\"train_loss: {:.5f} valid_loss: {:.5f} train_acc:{:.4f} valid_acc:{:.4f}\".format(epoch_loss, valid_loss, epoch_acc, valid_acc))\n",
    "        torch.save(model.state_dict(), save_model_path)\n",
    "    return train_losses, valid_losses, losses\n",
    "\n",
    "\n",
    "# 在测试集上评估\n",
    "def evaluate(model, data_loader, device, label2idx=None, save_model_path=None):\n",
    "    idx2label = {v: k for k, v in label2idx.items()}\n",
    "    y_pred, y_true = [], []\n",
    "    if save_model_path is not None:\n",
    "        model.load_state_dict(torch.load(save_model_path))\n",
    "    model.eval()\n",
    "    \n",
    "    n_steps = 0\n",
    "\n",
    "    v_loss = 0\n",
    "\n",
    "    with torch.no_grad():\n",
    "        for idx, batch in enumerate(data_loader):\n",
    "            \n",
    "            n_steps += 1\n",
    "            input_ids = batch['input_ids'].to(device)\n",
    "            label_ids = batch['label_ids'].to(device)\n",
    "            mask = batch['mask'].to(device)\n",
    "\n",
    "            output = model.forwards(input_ids, label_ids, mask=mask)\n",
    "            if model.use_crf:\n",
    "                best_path, loss = output\n",
    "                v_loss += loss\n",
    "                max_length = 80\n",
    "                # 填充或截断所有子列表，使它们的长度相等\n",
    "                best_path = [sublist + [0] * (max_length - len(sublist)) for sublist in best_path]\n",
    "                best_path = torch.Tensor(best_path).squeeze().contiguous().view(-1)       # (batch * seq_len, ) \n",
    "                active_logits = mask.view(-1) == 1\n",
    "                targets = label_ids.view(-1)\n",
    "                preds = torch.masked_select(best_path, active_logits)\n",
    "                targets = torch.masked_select(targets, active_logits)\n",
    "                y_pred.append(list([idx2label[p_idx.item()] for p_idx in preds]))\n",
    "                y_true.append(list([idx2label[t_idx.item()] for t_idx in targets]))\n",
    "            else:\n",
    "                logits, loss = output                                       # (batch, seq_len, n_labels)\n",
    "                v_loss += loss\n",
    "                logits = logits.view(-1, logits.size(-1))\n",
    "                preds = torch.argmax(logits, dim=1)\n",
    "                targets = label_ids.view(-1)\n",
    "                active_logits = mask.view(-1) == 1\n",
    "                preds = torch.masked_select(preds, active_logits)\n",
    "                targets = torch.masked_select(targets, active_logits)\n",
    "                y_pred.append(list([idx2label[p_idx.item()] for p_idx in preds]))\n",
    "                y_true.append(list([idx2label[t_idx.item()] for t_idx in targets]))\n",
    "\n",
    "        valid_loss = v_loss / n_steps\n",
    "    acc = accuracy_score(y_true=y_true, y_pred=y_pred)\n",
    "    report = classification_report(y_true=y_true, y_pred=y_pred, digits=4)\n",
    "    return acc, report, valid_loss\n",
    "\n",
    "\n",
    "def main():\n",
    "    tags = read_tags(Parmas.tags_path)\n",
    "    train_corpus = read_corpus(Parmas.train_sent_path, Parmas.train_tag_path)\n",
    "    vocab2idx = build_vocab2idx(train_corpus)  # len: 4761\n",
    "    label2idx = build_label2idx(tags)\n",
    "    # {'O': 0, 'B-ORG': 1, 'I-PER': 2, 'B-PER': 3, 'I-LOC': 4, 'I-ORG': 5, 'B-LOC': 6}\n",
    "    tokenizer = BertTokenizer.from_pretrained(Parmas.bert_path, do_lower_case=False)\n",
    "    device = torch.device(\"cuda\" if torch.cuda.is_available() else \"cpu\")\n",
    "\n",
    "    train_loader = build_loader(Parmas.train_sent_path, Parmas.train_tag_path, vocab2idx=vocab2idx,\n",
    "                                label2idx=label2idx, tokenizer=tokenizer, seq_len=80,\n",
    "                                params=Parmas.train_params, model_type='lstm')\n",
    "    valid_loader = build_loader(Parmas.val_sent_path, Parmas.val_tag_path, vocab2idx=vocab2idx,\n",
    "                                label2idx=label2idx, tokenizer=tokenizer, seq_len=80,\n",
    "                                params=Parmas.valid_params, model_type='lstm')\n",
    "    test_loader = build_loader(Parmas.test_sent_path, Parmas.test_tag_path, vocab2idx=vocab2idx,\n",
    "                               label2idx=label2idx, tokenizer=tokenizer, seq_len=80,\n",
    "                               params=Parmas.test_params, model_type='lstm')\n",
    "\n",
    "\n",
    "\n",
    "    model = LstmModel(vocab2idx, label2idx, embed_size=100, hidden_size=128, use_crf=True).to(device)\n",
    "    train_losses, valid_losses, losses = train_model(model, 20, train_loader, valid_loader, label2idx, device, save_model_path=Parmas.SAVED_MODEL_PATH)\n",
    "    acc, report, _ = evaluate(model, test_loader, device, label2idx, save_model_path=Parmas.SAVED_MODEL_PATH)\n",
    "    print(acc)\n",
    "    print(report)\n",
    "\n",
    "    import matplotlib.pyplot as plt\n",
    "\n",
    "\n",
    "    # 绘制折线图\n",
    "    plt.plot(losses, label='Train / Loss')\n",
    "    plt.legend()\n",
    "    plt.title('Train / Loss')\n",
    "    plt.show()\n",
    "\n",
    "\n",
    "    # 绘制折线图\n",
    "    plt.plot(train_losses, label='Train Loss')\n",
    "    plt.plot(valid_losses, label='Valid Loss')\n",
    "    plt.legend()\n",
    "    plt.title('Train/Valid Loss')\n",
    "    plt.show()\n",
    "\n",
    "\n",
    "\n",
    "\n",
    "if __name__ == \"__main__\":\n",
    "    set_random_seed(seed=2023)\n",
    "    main()\n"
   ]
  }
 ],
 "metadata": {
  "kernelspec": {
   "display_name": "base",
   "language": "python",
   "name": "python3"
  },
  "language_info": {
   "codemirror_mode": {
    "name": "ipython",
    "version": 3
   },
   "file_extension": ".py",
   "mimetype": "text/x-python",
   "name": "python",
   "nbconvert_exporter": "python",
   "pygments_lexer": "ipython3",
   "version": "3.11.5"
  }
 },
 "nbformat": 4,
 "nbformat_minor": 2
}
